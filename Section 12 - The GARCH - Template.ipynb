{
 "cells": [
  {
   "cell_type": "markdown",
   "metadata": {},
   "source": [
    "## Importing the relevant packages"
   ]
  },
  {
   "cell_type": "code",
   "execution_count": 1,
   "metadata": {},
   "outputs": [],
   "source": [
    "import pandas as pd\n",
    "import numpy as np\n",
    "import matplotlib.pyplot as plt\n",
    "import statsmodels.graphics.tsaplots as sgt\n",
    "import statsmodels.tsa.stattools as sts\n",
    "from statsmodels.tsa.arima_model import ARIMA\n",
    "from scipy.stats.distributions import chi2 \n",
    "from arch import arch_model\n",
    "from math import sqrt\n",
    "import seaborn as sns\n",
    "sns.set()"
   ]
  },
  {
   "cell_type": "markdown",
   "metadata": {},
   "source": [
    " "
   ]
  },
  {
   "cell_type": "markdown",
   "metadata": {},
   "source": [
    "## Importing the Data and Pre-processing "
   ]
  },
  {
   "cell_type": "code",
   "execution_count": 3,
   "metadata": {},
   "outputs": [],
   "source": [
    "raw_csv_data = pd.read_csv(\"inputs\\Index2018.csv\") \n",
    "df_comp=raw_csv_data.copy()\n",
    "df_comp.date = pd.to_datetime(df_comp.date, dayfirst = True)\n",
    "df_comp.set_index(\"date\", inplace=True)\n",
    "df_comp=df_comp.asfreq('b')\n",
    "df_comp=df_comp.fillna(method='ffill')"
   ]
  },
  {
   "cell_type": "code",
   "execution_count": 4,
   "metadata": {},
   "outputs": [],
   "source": [
    "df_comp['market_value']=df_comp.ftse"
   ]
  },
  {
   "cell_type": "code",
   "execution_count": 5,
   "metadata": {},
   "outputs": [],
   "source": [
    "del df_comp['spx']\n",
    "del df_comp['dax']\n",
    "del df_comp['ftse']\n",
    "del df_comp['nikkei']\n",
    "size = int(len(df_comp)*0.8)\n",
    "df, df_test = df_comp.iloc[:size], df_comp.iloc[size:]"
   ]
  },
  {
   "cell_type": "code",
   "execution_count": 6,
   "metadata": {},
   "outputs": [],
   "source": [
    "import warnings\n",
    "warnings.filterwarnings(\"ignore\")"
   ]
  },
  {
   "cell_type": "markdown",
   "metadata": {},
   "source": [
    " "
   ]
  },
  {
   "cell_type": "markdown",
   "metadata": {},
   "source": [
    "## The LLR Test"
   ]
  },
  {
   "cell_type": "code",
   "execution_count": 7,
   "metadata": {},
   "outputs": [],
   "source": [
    "def LLR_test(mod_1, mod_2, DF = 1):\n",
    "    L1 = mod_1.fit(start_ar_lags = 11).llf\n",
    "    L2 = mod_2.fit(start_ar_lags = 11).llf\n",
    "    LR = (2*(L2-L1))    \n",
    "    p = chi2.sf(LR, DF).round(3)\n",
    "    return p"
   ]
  },
  {
   "cell_type": "markdown",
   "metadata": {},
   "source": [
    "## Creating Returns"
   ]
  },
  {
   "cell_type": "code",
   "execution_count": 8,
   "metadata": {
    "scrolled": true
   },
   "outputs": [],
   "source": [
    "df['returns'] = df.market_value.pct_change(1)*100"
   ]
  },
  {
   "cell_type": "markdown",
   "metadata": {},
   "source": [
    "## The Simple GARCH Model"
   ]
  },
  {
   "cell_type": "code",
   "execution_count": 9,
   "metadata": {},
   "outputs": [
    {
     "name": "stdout",
     "output_type": "stream",
     "text": [
      "Iteration:      1,   Func. Count:      6,   Neg. LLF: 6579303469.390623\n",
      "Iteration:      2,   Func. Count:     15,   Neg. LLF: 2701100877.2298183\n",
      "Iteration:      3,   Func. Count:     23,   Neg. LLF: 7009.030632045198\n",
      "Iteration:      4,   Func. Count:     29,   Neg. LLF: 7024.035884053223\n",
      "Iteration:      5,   Func. Count:     35,   Neg. LLF: 7010.712866814991\n",
      "Iteration:      6,   Func. Count:     41,   Neg. LLF: 6975.418107495356\n",
      "Iteration:      7,   Func. Count:     47,   Neg. LLF: 7092.271289251072\n",
      "Iteration:      8,   Func. Count:     53,   Neg. LLF: 6973.8792679196495\n",
      "Iteration:      9,   Func. Count:     59,   Neg. LLF: 6970.088049064454\n",
      "Iteration:     10,   Func. Count:     64,   Neg. LLF: 6970.058478417896\n",
      "Iteration:     11,   Func. Count:     69,   Neg. LLF: 6970.058367475591\n",
      "Iteration:     12,   Func. Count:     74,   Neg. LLF: 6970.058366189888\n",
      "Iteration:     13,   Func. Count:     78,   Neg. LLF: 6970.058366189172\n",
      "Optimization terminated successfully    (Exit mode 0)\n",
      "            Current function value: 6970.058366189888\n",
      "            Iterations: 13\n",
      "            Function evaluations: 78\n",
      "            Gradient evaluations: 13\n"
     ]
    },
    {
     "data": {
      "text/html": [
       "<table class=\"simpletable\">\n",
       "<caption>Constant Mean - GARCH Model Results</caption>\n",
       "<tr>\n",
       "  <th>Dep. Variable:</th>       <td>returns</td>      <th>  R-squared:         </th>  <td>   0.000</td> \n",
       "</tr>\n",
       "<tr>\n",
       "  <th>Mean Model:</th>       <td>Constant Mean</td>   <th>  Adj. R-squared:    </th>  <td>   0.000</td> \n",
       "</tr>\n",
       "<tr>\n",
       "  <th>Vol Model:</th>            <td>GARCH</td>       <th>  Log-Likelihood:    </th> <td>  -6970.06</td>\n",
       "</tr>\n",
       "<tr>\n",
       "  <th>Distribution:</th>        <td>Normal</td>       <th>  AIC:               </th> <td>   13948.1</td>\n",
       "</tr>\n",
       "<tr>\n",
       "  <th>Method:</th>        <td>Maximum Likelihood</td> <th>  BIC:               </th> <td>   13974.2</td>\n",
       "</tr>\n",
       "<tr>\n",
       "  <th></th>                        <td></td>          <th>  No. Observations:  </th>    <td>5020</td>   \n",
       "</tr>\n",
       "<tr>\n",
       "  <th>Date:</th>           <td>Mon, Aug 01 2022</td>  <th>  Df Residuals:      </th>    <td>5019</td>   \n",
       "</tr>\n",
       "<tr>\n",
       "  <th>Time:</th>               <td>17:31:27</td>      <th>  Df Model:          </th>      <td>1</td>    \n",
       "</tr>\n",
       "</table>\n",
       "<table class=\"simpletable\">\n",
       "<caption>Mean Model</caption>\n",
       "<tr>\n",
       "   <td></td>     <th>coef</th>     <th>std err</th>      <th>t</th>       <th>P>|t|</th>     <th>95.0% Conf. Int.</th>   \n",
       "</tr>\n",
       "<tr>\n",
       "  <th>mu</th> <td>    0.0466</td> <td>1.183e-02</td> <td>    3.939</td> <td>8.187e-05</td> <td>[2.342e-02,6.981e-02]</td>\n",
       "</tr>\n",
       "</table>\n",
       "<table class=\"simpletable\">\n",
       "<caption>Volatility Model</caption>\n",
       "<tr>\n",
       "      <td></td>        <th>coef</th>     <th>std err</th>      <th>t</th>       <th>P>|t|</th>     <th>95.0% Conf. Int.</th>   \n",
       "</tr>\n",
       "<tr>\n",
       "  <th>omega</th>    <td>    0.0109</td> <td>3.004e-03</td> <td>    3.640</td> <td>2.724e-04</td> <td>[5.048e-03,1.682e-02]</td>\n",
       "</tr>\n",
       "<tr>\n",
       "  <th>alpha[1]</th> <td>    0.0835</td> <td>1.071e-02</td> <td>    7.794</td> <td>6.476e-15</td>  <td>[6.249e-02,  0.104]</td> \n",
       "</tr>\n",
       "<tr>\n",
       "  <th>beta[1]</th>  <td>    0.9089</td> <td>1.148e-02</td> <td>   79.168</td>   <td>0.000</td>     <td>[  0.886,  0.931]</td>  \n",
       "</tr>\n",
       "</table><br/><br/>Covariance estimator: robust"
      ],
      "text/plain": [
       "<class 'statsmodels.iolib.summary.Summary'>\n",
       "\"\"\"\n",
       "                     Constant Mean - GARCH Model Results                      \n",
       "==============================================================================\n",
       "Dep. Variable:                returns   R-squared:                       0.000\n",
       "Mean Model:             Constant Mean   Adj. R-squared:                  0.000\n",
       "Vol Model:                      GARCH   Log-Likelihood:               -6970.06\n",
       "Distribution:                  Normal   AIC:                           13948.1\n",
       "Method:            Maximum Likelihood   BIC:                           13974.2\n",
       "                                        No. Observations:                 5020\n",
       "Date:                Mon, Aug 01 2022   Df Residuals:                     5019\n",
       "Time:                        17:31:27   Df Model:                            1\n",
       "                                 Mean Model                                 \n",
       "============================================================================\n",
       "                 coef    std err          t      P>|t|      95.0% Conf. Int.\n",
       "----------------------------------------------------------------------------\n",
       "mu             0.0466  1.183e-02      3.939  8.187e-05 [2.342e-02,6.981e-02]\n",
       "                              Volatility Model                              \n",
       "============================================================================\n",
       "                 coef    std err          t      P>|t|      95.0% Conf. Int.\n",
       "----------------------------------------------------------------------------\n",
       "omega          0.0109  3.004e-03      3.640  2.724e-04 [5.048e-03,1.682e-02]\n",
       "alpha[1]       0.0835  1.071e-02      7.794  6.476e-15   [6.249e-02,  0.104]\n",
       "beta[1]        0.9089  1.148e-02     79.168      0.000     [  0.886,  0.931]\n",
       "============================================================================\n",
       "\n",
       "Covariance estimator: robust\n",
       "\"\"\""
      ]
     },
     "execution_count": 9,
     "metadata": {},
     "output_type": "execute_result"
    }
   ],
   "source": [
    "model_garch_1_1 = arch_model(df.returns[1:],mean=\"Constant\", vol='GARCH', p=1, q=1)\n",
    "results_garch_1_1 = model_garch_1_1.fit()\n",
    "results_garch_1_1.summary()"
   ]
  },
  {
   "cell_type": "markdown",
   "metadata": {},
   "source": [
    "## Higher-Lag GARCH Models"
   ]
  },
  {
   "cell_type": "code",
   "execution_count": 10,
   "metadata": {},
   "outputs": [
    {
     "name": "stdout",
     "output_type": "stream",
     "text": [
      "Iteration:      1,   Func. Count:      7,   Neg. LLF: 136466776694655.33\n",
      "Iteration:      2,   Func. Count:     17,   Neg. LLF: 808459246.0256559\n",
      "Iteration:      3,   Func. Count:     25,   Neg. LLF: 10137.459118305613\n",
      "Iteration:      4,   Func. Count:     33,   Neg. LLF: 7008.430986114414\n",
      "Iteration:      5,   Func. Count:     40,   Neg. LLF: 6974.173831538361\n",
      "Iteration:      6,   Func. Count:     46,   Neg. LLF: 6971.511859365692\n",
      "Iteration:      7,   Func. Count:     52,   Neg. LLF: 6970.616224326323\n",
      "Iteration:      8,   Func. Count:     58,   Neg. LLF: 6973.892231638968\n",
      "Iteration:      9,   Func. Count:     65,   Neg. LLF: 6970.063506713137\n",
      "Iteration:     10,   Func. Count:     71,   Neg. LLF: 6970.058391826686\n",
      "Iteration:     11,   Func. Count:     77,   Neg. LLF: 6970.058366757141\n",
      "Iteration:     12,   Func. Count:     83,   Neg. LLF: 6970.05836622724\n",
      "Optimization terminated successfully    (Exit mode 0)\n",
      "            Current function value: 6970.05836622724\n",
      "            Iterations: 12\n",
      "            Function evaluations: 83\n",
      "            Gradient evaluations: 12\n"
     ]
    },
    {
     "data": {
      "text/html": [
       "<table class=\"simpletable\">\n",
       "<caption>Constant Mean - GARCH Model Results</caption>\n",
       "<tr>\n",
       "  <th>Dep. Variable:</th>       <td>returns</td>      <th>  R-squared:         </th>  <td>   0.000</td> \n",
       "</tr>\n",
       "<tr>\n",
       "  <th>Mean Model:</th>       <td>Constant Mean</td>   <th>  Adj. R-squared:    </th>  <td>   0.000</td> \n",
       "</tr>\n",
       "<tr>\n",
       "  <th>Vol Model:</th>            <td>GARCH</td>       <th>  Log-Likelihood:    </th> <td>  -6970.06</td>\n",
       "</tr>\n",
       "<tr>\n",
       "  <th>Distribution:</th>        <td>Normal</td>       <th>  AIC:               </th> <td>   13950.1</td>\n",
       "</tr>\n",
       "<tr>\n",
       "  <th>Method:</th>        <td>Maximum Likelihood</td> <th>  BIC:               </th> <td>   13982.7</td>\n",
       "</tr>\n",
       "<tr>\n",
       "  <th></th>                        <td></td>          <th>  No. Observations:  </th>    <td>5020</td>   \n",
       "</tr>\n",
       "<tr>\n",
       "  <th>Date:</th>           <td>Mon, Aug 01 2022</td>  <th>  Df Residuals:      </th>    <td>5019</td>   \n",
       "</tr>\n",
       "<tr>\n",
       "  <th>Time:</th>               <td>17:35:32</td>      <th>  Df Model:          </th>      <td>1</td>    \n",
       "</tr>\n",
       "</table>\n",
       "<table class=\"simpletable\">\n",
       "<caption>Mean Model</caption>\n",
       "<tr>\n",
       "   <td></td>     <th>coef</th>     <th>std err</th>      <th>t</th>       <th>P>|t|</th>     <th>95.0% Conf. Int.</th>   \n",
       "</tr>\n",
       "<tr>\n",
       "  <th>mu</th> <td>    0.0466</td> <td>1.184e-02</td> <td>    3.938</td> <td>8.219e-05</td> <td>[2.341e-02,6.982e-02]</td>\n",
       "</tr>\n",
       "</table>\n",
       "<table class=\"simpletable\">\n",
       "<caption>Volatility Model</caption>\n",
       "<tr>\n",
       "      <td></td>        <th>coef</th>     <th>std err</th>      <th>t</th>       <th>P>|t|</th>     <th>95.0% Conf. Int.</th>   \n",
       "</tr>\n",
       "<tr>\n",
       "  <th>omega</th>    <td>    0.0109</td> <td>2.908e-03</td> <td>    3.761</td> <td>1.696e-04</td> <td>[5.236e-03,1.663e-02]</td>\n",
       "</tr>\n",
       "<tr>\n",
       "  <th>alpha[1]</th> <td>    0.0835</td> <td>1.189e-02</td> <td>    7.019</td> <td>2.231e-12</td>  <td>[6.017e-02,  0.107]</td> \n",
       "</tr>\n",
       "<tr>\n",
       "  <th>beta[1]</th>  <td>    0.9089</td> <td>    0.188</td> <td>    4.845</td> <td>1.268e-06</td>   <td>[  0.541,  1.277]</td>  \n",
       "</tr>\n",
       "<tr>\n",
       "  <th>beta[2]</th>    <td>0.0000</td>   <td>    0.180</td>   <td>0.000</td>   <td>    1.000</td>   <td>[ -0.352,  0.352]</td>  \n",
       "</tr>\n",
       "</table><br/><br/>Covariance estimator: robust"
      ],
      "text/plain": [
       "<class 'statsmodels.iolib.summary.Summary'>\n",
       "\"\"\"\n",
       "                     Constant Mean - GARCH Model Results                      \n",
       "==============================================================================\n",
       "Dep. Variable:                returns   R-squared:                       0.000\n",
       "Mean Model:             Constant Mean   Adj. R-squared:                  0.000\n",
       "Vol Model:                      GARCH   Log-Likelihood:               -6970.06\n",
       "Distribution:                  Normal   AIC:                           13950.1\n",
       "Method:            Maximum Likelihood   BIC:                           13982.7\n",
       "                                        No. Observations:                 5020\n",
       "Date:                Mon, Aug 01 2022   Df Residuals:                     5019\n",
       "Time:                        17:35:32   Df Model:                            1\n",
       "                                 Mean Model                                 \n",
       "============================================================================\n",
       "                 coef    std err          t      P>|t|      95.0% Conf. Int.\n",
       "----------------------------------------------------------------------------\n",
       "mu             0.0466  1.184e-02      3.938  8.219e-05 [2.341e-02,6.982e-02]\n",
       "                              Volatility Model                              \n",
       "============================================================================\n",
       "                 coef    std err          t      P>|t|      95.0% Conf. Int.\n",
       "----------------------------------------------------------------------------\n",
       "omega          0.0109  2.908e-03      3.761  1.696e-04 [5.236e-03,1.663e-02]\n",
       "alpha[1]       0.0835  1.189e-02      7.019  2.231e-12   [6.017e-02,  0.107]\n",
       "beta[1]        0.9089      0.188      4.845  1.268e-06     [  0.541,  1.277]\n",
       "beta[2]        0.0000      0.180      0.000      1.000     [ -0.352,  0.352]\n",
       "============================================================================\n",
       "\n",
       "Covariance estimator: robust\n",
       "\"\"\""
      ]
     },
     "execution_count": 10,
     "metadata": {},
     "output_type": "execute_result"
    }
   ],
   "source": [
    "model_garch_1_2 = arch_model(df.returns[1:],mean=\"Constant\", vol='GARCH', p=1, q=2)\n",
    "results_garch_1_2 = model_garch_1_2.fit()\n",
    "results_garch_1_2.summary()"
   ]
  },
  {
   "cell_type": "code",
   "execution_count": 11,
   "metadata": {},
   "outputs": [
    {
     "name": "stdout",
     "output_type": "stream",
     "text": [
      "Iteration:      1,   Func. Count:      8,   Neg. LLF: 64329.00742578435\n",
      "Iteration:      2,   Func. Count:     20,   Neg. LLF: 28544.55132855609\n",
      "Iteration:      3,   Func. Count:     31,   Neg. LLF: 1585503827.2916908\n",
      "Iteration:      4,   Func. Count:     39,   Neg. LLF: 7021.088669289045\n",
      "Iteration:      5,   Func. Count:     47,   Neg. LLF: 16912.109253612274\n",
      "Iteration:      6,   Func. Count:     55,   Neg. LLF: 7130.552772308756\n",
      "Iteration:      7,   Func. Count:     63,   Neg. LLF: 7023.81939747395\n",
      "Iteration:      8,   Func. Count:     71,   Neg. LLF: 6986.380333589299\n",
      "Iteration:      9,   Func. Count:     79,   Neg. LLF: 6971.9124544884\n",
      "Iteration:     10,   Func. Count:     87,   Neg. LLF: 7863.841245879325\n",
      "Iteration:     11,   Func. Count:     96,   Neg. LLF: 6967.9766535249855\n",
      "Iteration:     12,   Func. Count:    104,   Neg. LLF: 6972.8974470021185\n",
      "Iteration:     13,   Func. Count:    112,   Neg. LLF: 6967.501325334316\n",
      "Iteration:     14,   Func. Count:    119,   Neg. LLF: 6967.501214579024\n",
      "Iteration:     15,   Func. Count:    127,   Neg. LLF: 6967.500730359623\n",
      "Iteration:     16,   Func. Count:    134,   Neg. LLF: 6967.5007206003975\n",
      "Iteration:     17,   Func. Count:    141,   Neg. LLF: 6967.500720110273\n",
      "Optimization terminated successfully    (Exit mode 0)\n",
      "            Current function value: 6967.500720110273\n",
      "            Iterations: 17\n",
      "            Function evaluations: 141\n",
      "            Gradient evaluations: 17\n"
     ]
    },
    {
     "data": {
      "text/html": [
       "<table class=\"simpletable\">\n",
       "<caption>Constant Mean - GARCH Model Results</caption>\n",
       "<tr>\n",
       "  <th>Dep. Variable:</th>       <td>returns</td>      <th>  R-squared:         </th>  <td>   0.000</td> \n",
       "</tr>\n",
       "<tr>\n",
       "  <th>Mean Model:</th>       <td>Constant Mean</td>   <th>  Adj. R-squared:    </th>  <td>   0.000</td> \n",
       "</tr>\n",
       "<tr>\n",
       "  <th>Vol Model:</th>            <td>GARCH</td>       <th>  Log-Likelihood:    </th> <td>  -6967.50</td>\n",
       "</tr>\n",
       "<tr>\n",
       "  <th>Distribution:</th>        <td>Normal</td>       <th>  AIC:               </th> <td>   13947.0</td>\n",
       "</tr>\n",
       "<tr>\n",
       "  <th>Method:</th>        <td>Maximum Likelihood</td> <th>  BIC:               </th> <td>   13986.1</td>\n",
       "</tr>\n",
       "<tr>\n",
       "  <th></th>                        <td></td>          <th>  No. Observations:  </th>    <td>5020</td>   \n",
       "</tr>\n",
       "<tr>\n",
       "  <th>Date:</th>           <td>Mon, Aug 01 2022</td>  <th>  Df Residuals:      </th>    <td>5019</td>   \n",
       "</tr>\n",
       "<tr>\n",
       "  <th>Time:</th>               <td>17:35:36</td>      <th>  Df Model:          </th>      <td>1</td>    \n",
       "</tr>\n",
       "</table>\n",
       "<table class=\"simpletable\">\n",
       "<caption>Mean Model</caption>\n",
       "<tr>\n",
       "   <td></td>     <th>coef</th>     <th>std err</th>      <th>t</th>       <th>P>|t|</th>     <th>95.0% Conf. Int.</th>   \n",
       "</tr>\n",
       "<tr>\n",
       "  <th>mu</th> <td>    0.0465</td> <td>1.186e-02</td> <td>    3.921</td> <td>8.824e-05</td> <td>[2.325e-02,6.973e-02]</td>\n",
       "</tr>\n",
       "</table>\n",
       "<table class=\"simpletable\">\n",
       "<caption>Volatility Model</caption>\n",
       "<tr>\n",
       "      <td></td>        <th>coef</th>     <th>std err</th>      <th>t</th>       <th>P>|t|</th>     <th>95.0% Conf. Int.</th>   \n",
       "</tr>\n",
       "<tr>\n",
       "  <th>omega</th>    <td>    0.0150</td> <td>4.606e-03</td> <td>    3.246</td> <td>1.172e-03</td> <td>[5.922e-03,2.398e-02]</td>\n",
       "</tr>\n",
       "<tr>\n",
       "  <th>alpha[1]</th> <td>    0.0539</td> <td>1.635e-02</td> <td>    3.294</td> <td>9.888e-04</td> <td>[2.181e-02,8.590e-02]</td>\n",
       "</tr>\n",
       "<tr>\n",
       "  <th>alpha[2]</th> <td>    0.0550</td> <td>2.467e-02</td> <td>    2.229</td> <td>2.578e-02</td>  <td>[6.649e-03,  0.103]</td> \n",
       "</tr>\n",
       "<tr>\n",
       "  <th>beta[1]</th>  <td>    0.7166</td> <td>    0.186</td> <td>    3.845</td> <td>1.206e-04</td>   <td>[  0.351,  1.082]</td>  \n",
       "</tr>\n",
       "<tr>\n",
       "  <th>beta[2]</th>  <td>    0.1641</td> <td>    0.173</td> <td>    0.948</td> <td>    0.343</td>   <td>[ -0.175,  0.503]</td>  \n",
       "</tr>\n",
       "</table><br/><br/>Covariance estimator: robust"
      ],
      "text/plain": [
       "<class 'statsmodels.iolib.summary.Summary'>\n",
       "\"\"\"\n",
       "                     Constant Mean - GARCH Model Results                      \n",
       "==============================================================================\n",
       "Dep. Variable:                returns   R-squared:                       0.000\n",
       "Mean Model:             Constant Mean   Adj. R-squared:                  0.000\n",
       "Vol Model:                      GARCH   Log-Likelihood:               -6967.50\n",
       "Distribution:                  Normal   AIC:                           13947.0\n",
       "Method:            Maximum Likelihood   BIC:                           13986.1\n",
       "                                        No. Observations:                 5020\n",
       "Date:                Mon, Aug 01 2022   Df Residuals:                     5019\n",
       "Time:                        17:35:36   Df Model:                            1\n",
       "                                 Mean Model                                 \n",
       "============================================================================\n",
       "                 coef    std err          t      P>|t|      95.0% Conf. Int.\n",
       "----------------------------------------------------------------------------\n",
       "mu             0.0465  1.186e-02      3.921  8.824e-05 [2.325e-02,6.973e-02]\n",
       "                              Volatility Model                              \n",
       "============================================================================\n",
       "                 coef    std err          t      P>|t|      95.0% Conf. Int.\n",
       "----------------------------------------------------------------------------\n",
       "omega          0.0150  4.606e-03      3.246  1.172e-03 [5.922e-03,2.398e-02]\n",
       "alpha[1]       0.0539  1.635e-02      3.294  9.888e-04 [2.181e-02,8.590e-02]\n",
       "alpha[2]       0.0550  2.467e-02      2.229  2.578e-02   [6.649e-03,  0.103]\n",
       "beta[1]        0.7166      0.186      3.845  1.206e-04     [  0.351,  1.082]\n",
       "beta[2]        0.1641      0.173      0.948      0.343     [ -0.175,  0.503]\n",
       "============================================================================\n",
       "\n",
       "Covariance estimator: robust\n",
       "\"\"\""
      ]
     },
     "execution_count": 11,
     "metadata": {},
     "output_type": "execute_result"
    }
   ],
   "source": [
    "model_garch_2_2 = arch_model(df.returns[1:],mean=\"Constant\", vol='GARCH', p=2, q=2)\n",
    "results_garch_2_2 = model_garch_2_2.fit()\n",
    "results_garch_2_2.summary()"
   ]
  },
  {
   "cell_type": "code",
   "execution_count": null,
   "metadata": {},
   "outputs": [],
   "source": []
  },
  {
   "cell_type": "code",
   "execution_count": null,
   "metadata": {},
   "outputs": [],
   "source": []
  },
  {
   "cell_type": "code",
   "execution_count": null,
   "metadata": {},
   "outputs": [],
   "source": []
  }
 ],
 "metadata": {
  "kernelspec": {
   "display_name": "Python 3 (ipykernel)",
   "language": "python",
   "name": "python3"
  },
  "language_info": {
   "codemirror_mode": {
    "name": "ipython",
    "version": 3
   },
   "file_extension": ".py",
   "mimetype": "text/x-python",
   "name": "python",
   "nbconvert_exporter": "python",
   "pygments_lexer": "ipython3",
   "version": "3.9.7"
  }
 },
 "nbformat": 4,
 "nbformat_minor": 2
}
