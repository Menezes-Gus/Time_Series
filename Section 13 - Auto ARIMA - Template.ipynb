{
 "cells": [
  {
   "cell_type": "markdown",
   "metadata": {},
   "source": [
    "### Packages"
   ]
  },
  {
   "cell_type": "code",
   "execution_count": 1,
   "metadata": {},
   "outputs": [],
   "source": [
    "import numpy as np\n",
    "import pandas as pd\n",
    "import scipy\n",
    "import statsmodels.api as sm\n",
    "import matplotlib.pyplot as plt\n",
    "import seaborn as sns\n",
    "import sklearn\n",
    "from statsmodels.tsa.arima_model import ARIMA\n",
    "from arch import arch_model\n",
    "import seaborn as sns\n",
    "import yfinance\n",
    "import warnings\n",
    "warnings.filterwarnings(\"ignore\")\n",
    "sns.set()"
   ]
  },
  {
   "cell_type": "markdown",
   "metadata": {},
   "source": [
    "### Loading the data"
   ]
  },
  {
   "cell_type": "code",
   "execution_count": 2,
   "metadata": {},
   "outputs": [
    {
     "name": "stdout",
     "output_type": "stream",
     "text": [
      "[*********************100%***********************]  4 of 4 completed\n"
     ]
    }
   ],
   "source": [
    "raw_data = yfinance.download (tickers = \"^GSPC ^FTSE ^N225 ^GDAXI\", start = \"1994-01-07\", end = \"2018-01-29\", \n",
    "                              interval = \"1d\", group_by = 'ticker', auto_adjust = True, treads = True)"
   ]
  },
  {
   "cell_type": "code",
   "execution_count": 3,
   "metadata": {},
   "outputs": [],
   "source": [
    "df_comp = raw_data.copy()"
   ]
  },
  {
   "cell_type": "code",
   "execution_count": 4,
   "metadata": {},
   "outputs": [],
   "source": [
    "df_comp['spx'] = df_comp['^GSPC'].Close[:]\n",
    "df_comp['dax'] = df_comp['^GDAXI'].Close[:]\n",
    "df_comp['ftse'] = df_comp['^FTSE'].Close[:]\n",
    "df_comp['nikkei'] = df_comp['^N225'].Close[:]"
   ]
  },
  {
   "cell_type": "code",
   "execution_count": 5,
   "metadata": {
    "scrolled": true
   },
   "outputs": [],
   "source": [
    "df_comp = df_comp.iloc[1:]\n",
    "del df_comp['^N225']\n",
    "del df_comp['^GSPC']\n",
    "del df_comp['^GDAXI']\n",
    "del df_comp['^FTSE']\n",
    "df_comp=df_comp.asfreq('b')\n",
    "df_comp=df_comp.fillna(method='ffill')"
   ]
  },
  {
   "cell_type": "markdown",
   "metadata": {},
   "source": [
    "### Creating Returns"
   ]
  },
  {
   "cell_type": "code",
   "execution_count": 6,
   "metadata": {},
   "outputs": [],
   "source": [
    "df_comp['ret_spx'] = df_comp.spx.pct_change(1)*100\n",
    "df_comp['ret_ftse'] = df_comp.ftse.pct_change(1)*100\n",
    "df_comp['ret_dax'] = df_comp.dax.pct_change(1)*100\n",
    "df_comp['ret_nikkei'] = df_comp.nikkei.pct_change(1)*100"
   ]
  },
  {
   "cell_type": "markdown",
   "metadata": {},
   "source": [
    "### Splitting the Data"
   ]
  },
  {
   "cell_type": "code",
   "execution_count": 7,
   "metadata": {},
   "outputs": [],
   "source": [
    "size = int(len(df_comp)*0.8)\n",
    "df, df_test = df_comp.iloc[:size], df_comp.iloc[size:]"
   ]
  },
  {
   "cell_type": "markdown",
   "metadata": {},
   "source": [
    "### Fitting a Model"
   ]
  },
  {
   "cell_type": "code",
   "execution_count": 9,
   "metadata": {},
   "outputs": [],
   "source": [
    "from pmdarima import auto_arima"
   ]
  },
  {
   "cell_type": "code",
   "execution_count": 10,
   "metadata": {},
   "outputs": [],
   "source": [
    "model_auto = auto_arima(df.ret_ftse[1:])"
   ]
  },
  {
   "cell_type": "code",
   "execution_count": 11,
   "metadata": {},
   "outputs": [
    {
     "data": {
      "text/plain": [
       "ARIMA(order=(4, 0, 5), scoring_args={}, suppress_warnings=True,\n",
       "      with_intercept=False)"
      ]
     },
     "execution_count": 11,
     "metadata": {},
     "output_type": "execute_result"
    }
   ],
   "source": [
    "model_auto"
   ]
  },
  {
   "cell_type": "code",
   "execution_count": 12,
   "metadata": {},
   "outputs": [
    {
     "data": {
      "text/html": [
       "<table class=\"simpletable\">\n",
       "<caption>SARIMAX Results</caption>\n",
       "<tr>\n",
       "  <th>Dep. Variable:</th>           <td>y</td>        <th>  No. Observations:  </th>   <td>5019</td>   \n",
       "</tr>\n",
       "<tr>\n",
       "  <th>Model:</th>           <td>SARIMAX(4, 0, 5)</td> <th>  Log Likelihood     </th> <td>-7882.776</td>\n",
       "</tr>\n",
       "<tr>\n",
       "  <th>Date:</th>            <td>Mon, 01 Aug 2022</td> <th>  AIC                </th> <td>15785.552</td>\n",
       "</tr>\n",
       "<tr>\n",
       "  <th>Time:</th>                <td>18:23:02</td>     <th>  BIC                </th> <td>15850.762</td>\n",
       "</tr>\n",
       "<tr>\n",
       "  <th>Sample:</th>                  <td>0</td>        <th>  HQIC               </th> <td>15808.403</td>\n",
       "</tr>\n",
       "<tr>\n",
       "  <th></th>                      <td> - 5019</td>     <th>                     </th>     <td> </td>    \n",
       "</tr>\n",
       "<tr>\n",
       "  <th>Covariance Type:</th>        <td>opg</td>       <th>                     </th>     <td> </td>    \n",
       "</tr>\n",
       "</table>\n",
       "<table class=\"simpletable\">\n",
       "<tr>\n",
       "     <td></td>       <th>coef</th>     <th>std err</th>      <th>z</th>      <th>P>|z|</th>  <th>[0.025</th>    <th>0.975]</th>  \n",
       "</tr>\n",
       "<tr>\n",
       "  <th>ar.L1</th>  <td>    0.0120</td> <td>    0.082</td> <td>    0.147</td> <td> 0.883</td> <td>   -0.148</td> <td>    0.172</td>\n",
       "</tr>\n",
       "<tr>\n",
       "  <th>ar.L2</th>  <td>   -0.6544</td> <td>    0.077</td> <td>   -8.458</td> <td> 0.000</td> <td>   -0.806</td> <td>   -0.503</td>\n",
       "</tr>\n",
       "<tr>\n",
       "  <th>ar.L3</th>  <td>   -0.1628</td> <td>    0.071</td> <td>   -2.290</td> <td> 0.022</td> <td>   -0.302</td> <td>   -0.023</td>\n",
       "</tr>\n",
       "<tr>\n",
       "  <th>ar.L4</th>  <td>    0.2013</td> <td>    0.074</td> <td>    2.710</td> <td> 0.007</td> <td>    0.056</td> <td>    0.347</td>\n",
       "</tr>\n",
       "<tr>\n",
       "  <th>ma.L1</th>  <td>   -0.0357</td> <td>    0.081</td> <td>   -0.440</td> <td> 0.660</td> <td>   -0.195</td> <td>    0.123</td>\n",
       "</tr>\n",
       "<tr>\n",
       "  <th>ma.L2</th>  <td>    0.6069</td> <td>    0.078</td> <td>    7.770</td> <td> 0.000</td> <td>    0.454</td> <td>    0.760</td>\n",
       "</tr>\n",
       "<tr>\n",
       "  <th>ma.L3</th>  <td>    0.0621</td> <td>    0.068</td> <td>    0.908</td> <td> 0.364</td> <td>   -0.072</td> <td>    0.196</td>\n",
       "</tr>\n",
       "<tr>\n",
       "  <th>ma.L4</th>  <td>   -0.1933</td> <td>    0.073</td> <td>   -2.648</td> <td> 0.008</td> <td>   -0.336</td> <td>   -0.050</td>\n",
       "</tr>\n",
       "<tr>\n",
       "  <th>ma.L5</th>  <td>   -0.1053</td> <td>    0.010</td> <td>  -11.068</td> <td> 0.000</td> <td>   -0.124</td> <td>   -0.087</td>\n",
       "</tr>\n",
       "<tr>\n",
       "  <th>sigma2</th> <td>    1.3543</td> <td>    0.015</td> <td>   91.434</td> <td> 0.000</td> <td>    1.325</td> <td>    1.383</td>\n",
       "</tr>\n",
       "</table>\n",
       "<table class=\"simpletable\">\n",
       "<tr>\n",
       "  <th>Ljung-Box (L1) (Q):</th>     <td>0.00</td> <th>  Jarque-Bera (JB):  </th> <td>6354.58</td>\n",
       "</tr>\n",
       "<tr>\n",
       "  <th>Prob(Q):</th>                <td>0.96</td> <th>  Prob(JB):          </th>  <td>0.00</td>  \n",
       "</tr>\n",
       "<tr>\n",
       "  <th>Heteroskedasticity (H):</th> <td>1.99</td> <th>  Skew:              </th>  <td>-0.20</td> \n",
       "</tr>\n",
       "<tr>\n",
       "  <th>Prob(H) (two-sided):</th>    <td>0.00</td> <th>  Kurtosis:          </th>  <td>8.50</td>  \n",
       "</tr>\n",
       "</table><br/><br/>Warnings:<br/>[1] Covariance matrix calculated using the outer product of gradients (complex-step)."
      ],
      "text/plain": [
       "<class 'statsmodels.iolib.summary.Summary'>\n",
       "\"\"\"\n",
       "                               SARIMAX Results                                \n",
       "==============================================================================\n",
       "Dep. Variable:                      y   No. Observations:                 5019\n",
       "Model:               SARIMAX(4, 0, 5)   Log Likelihood               -7882.776\n",
       "Date:                Mon, 01 Aug 2022   AIC                          15785.552\n",
       "Time:                        18:23:02   BIC                          15850.762\n",
       "Sample:                             0   HQIC                         15808.403\n",
       "                               - 5019                                         \n",
       "Covariance Type:                  opg                                         \n",
       "==============================================================================\n",
       "                 coef    std err          z      P>|z|      [0.025      0.975]\n",
       "------------------------------------------------------------------------------\n",
       "ar.L1          0.0120      0.082      0.147      0.883      -0.148       0.172\n",
       "ar.L2         -0.6544      0.077     -8.458      0.000      -0.806      -0.503\n",
       "ar.L3         -0.1628      0.071     -2.290      0.022      -0.302      -0.023\n",
       "ar.L4          0.2013      0.074      2.710      0.007       0.056       0.347\n",
       "ma.L1         -0.0357      0.081     -0.440      0.660      -0.195       0.123\n",
       "ma.L2          0.6069      0.078      7.770      0.000       0.454       0.760\n",
       "ma.L3          0.0621      0.068      0.908      0.364      -0.072       0.196\n",
       "ma.L4         -0.1933      0.073     -2.648      0.008      -0.336      -0.050\n",
       "ma.L5         -0.1053      0.010    -11.068      0.000      -0.124      -0.087\n",
       "sigma2         1.3543      0.015     91.434      0.000       1.325       1.383\n",
       "===================================================================================\n",
       "Ljung-Box (L1) (Q):                   0.00   Jarque-Bera (JB):              6354.58\n",
       "Prob(Q):                              0.96   Prob(JB):                         0.00\n",
       "Heteroskedasticity (H):               1.99   Skew:                            -0.20\n",
       "Prob(H) (two-sided):                  0.00   Kurtosis:                         8.50\n",
       "===================================================================================\n",
       "\n",
       "Warnings:\n",
       "[1] Covariance matrix calculated using the outer product of gradients (complex-step).\n",
       "\"\"\""
      ]
     },
     "execution_count": 12,
     "metadata": {},
     "output_type": "execute_result"
    }
   ],
   "source": [
    "model_auto.summary()"
   ]
  },
  {
   "cell_type": "markdown",
   "metadata": {},
   "source": [
    "### Important Arguments"
   ]
  },
  {
   "cell_type": "code",
   "execution_count": 8,
   "metadata": {
    "scrolled": true
   },
   "outputs": [],
   "source": [
    "\n",
    "# exogenous -> outside factors (e.g other time series)\n",
    "# m -> seasonal cycle length\n",
    "# max_order -> maximum amount of variables to be used in the regression (p + q)\n",
    "# max_p -> maximum AR components\n",
    "# max_q -> maximum MA components\n",
    "# max_d -> maximum Integrations\n",
    "# maxiter -> maximum iterations we're giving the model to converge the coefficients (becomes harder as the order increases)\n",
    "# return_valid_fits -> whether or not the method should validate the results \n",
    "# alpha -> level of significance, default is 5%, which we should be using most of the time\n",
    "# n_jobs -> how many models to fit at a time (-1 indicates \"as many as possible\")\n",
    "# trend -> \"ct\" usually\n",
    "# information_criterion -> 'aic', 'aicc', 'bic', 'hqic', 'oob' \n",
    "#        (Akaike Information Criterion, Corrected Akaike Information Criterion,\n",
    "#        Bayesian Information Criterion, Hannan-Quinn Information Criterion, or\n",
    "#        \"out of bag\"--for validation scoring--respectively)\n",
    "# out_of_smaple_size -> validates the model selection (pass the entire dataset, and set 20% to be the out_of_sample_size)"
   ]
  },
  {
   "cell_type": "code",
   "execution_count": null,
   "metadata": {},
   "outputs": [],
   "source": []
  }
 ],
 "metadata": {
  "kernelspec": {
   "display_name": "Python 3 (ipykernel)",
   "language": "python",
   "name": "python3"
  },
  "language_info": {
   "codemirror_mode": {
    "name": "ipython",
    "version": 3
   },
   "file_extension": ".py",
   "mimetype": "text/x-python",
   "name": "python",
   "nbconvert_exporter": "python",
   "pygments_lexer": "ipython3",
   "version": "3.9.7"
  }
 },
 "nbformat": 4,
 "nbformat_minor": 2
}
